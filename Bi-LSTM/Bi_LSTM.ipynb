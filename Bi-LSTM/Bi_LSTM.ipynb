{
  "nbformat": 4,
  "nbformat_minor": 0,
  "metadata": {
    "colab": {
      "name": "Bi-LSTM.ipynb",
      "version": "0.3.2",
      "provenance": [],
      "collapsed_sections": []
    },
    "kernelspec": {
      "name": "python3",
      "display_name": "Python 3"
    },
    "accelerator": "GPU"
  },
  "cells": [
    {
      "metadata": {
        "id": "pCGW0vm0woLu",
        "colab_type": "code",
        "outputId": "128de03c-7ee3-4211-ce6d-70f8edbff12e",
        "colab": {
          "base_uri": "https://localhost:8080/",
          "height": 35
        }
      },
      "cell_type": "code",
      "source": [
        "# Load the Drive helper and mount\n",
        "from google.colab import drive\n",
        "\n",
        "# This will prompt for authorization.\n",
        "drive.mount('/content/drive')"
      ],
      "execution_count": 0,
      "outputs": [
        {
          "output_type": "stream",
          "text": [
            "Drive already mounted at /content/drive; to attempt to forcibly remount, call drive.mount(\"/content/drive\", force_remount=True).\n"
          ],
          "name": "stdout"
        }
      ]
    },
    {
      "metadata": {
        "id": "v4UA5yJAwyvE",
        "colab_type": "code",
        "outputId": "e4386b44-3aeb-4654-a48c-228e2608b8ea",
        "colab": {
          "base_uri": "https://localhost:8080/",
          "height": 34
        }
      },
      "cell_type": "code",
      "source": [
        "!ls \"/content/drive/My Drive/TFINAL_data/data/2018\""
      ],
      "execution_count": 1,
      "outputs": [
        {
          "output_type": "stream",
          "text": [
            "intertass-ES-dev.csv  intertass-ES-test.csv  intertass-ES-train.csv  results\n"
          ],
          "name": "stdout"
        }
      ]
    },
    {
      "metadata": {
        "id": "_a8W8xCEZ1ck",
        "colab_type": "code",
        "outputId": "18a4d93d-1f1a-450a-c7f3-a705a954e18d",
        "colab": {
          "base_uri": "https://localhost:8080/",
          "height": 34
        }
      },
      "cell_type": "code",
      "source": [
        "import numpy as np # linear algebra\n",
        "import pandas as pd # data processing, CSV file I/O (e.g. pd.read_csv)\n",
        "import sys, os, re, csv, codecs, numpy as np, pandas as pd\n",
        "\n",
        "from keras.preprocessing.text import Tokenizer\n",
        "from keras.preprocessing.sequence import pad_sequences\n",
        "from keras.layers import Dense, Input, LSTM, Embedding, Dropout, Activation,SpatialDropout1D\n",
        "from keras.layers import Bidirectional, GlobalMaxPool1D, Conv1D, MaxPooling1D\n",
        "from keras.models import Model\n",
        "from keras import initializers, regularizers, constraints, optimizers, layers\n",
        "from gensim.models.keyedvectors import KeyedVectors\n",
        "from keras.models import Sequential, load_model\n",
        "\n",
        "from bs4 import BeautifulSoup\n",
        "from nltk.stem import PorterStemmer\n",
        "from nltk.corpus import stopwords \n",
        "import string, re\n",
        "import keras\n",
        "import pickle\n",
        "\n",
        "from gensim.models.wrappers import FastText"
      ],
      "execution_count": 2,
      "outputs": [
        {
          "output_type": "stream",
          "text": [
            "Using TensorFlow backend.\n"
          ],
          "name": "stderr"
        }
      ]
    },
    {
      "metadata": {
        "id": "G_B_Xowvat9x",
        "colab_type": "code",
        "colab": {}
      },
      "cell_type": "code",
      "source": [
        "DRIVE_FOLDER = '/content/drive/My Drive/TFINAL_data/'\n",
        "EMBEDDING_FILE_FASTTEX_VEC='embeddings/fasttext-sbwc.vec'\n",
        "#EMBEDDING_FILE_FASTTEX_BIN='embeddings/fasttext-sbwc.bin'\n",
        "\n",
        "EMBEDDING_FILE_GLOVE_VEC='embeddings/glove-sbwc.i25.vec'\n",
        "#EMBEDDING_FILE_GLOVE_BIN='embeddings/glove-sbwc.i25.bin'\n",
        "\n",
        "EMBEDDING_MATRIX_FOLDER = 'matrix_emb/'\n",
        "EMBEDDING_MATRIX_FILE_NAME = 'matrix_embeddings.csv'\n",
        "\n",
        "# TRAIN_DATA_FILE='data/2017/task1-Train.csv'\n",
        "# DEV_DATA_FILE='data/2017/task1-Dev.csv'\n",
        "# TEST_DATA_FILE='data/2017/task1-Test.csv'\n",
        "\n",
        "TRAIN_DATA_FILE='data/2018/intertass-ES-train.csv'\n",
        "DEV_DATA_FILE='data/2018/intertass-ES-dev.csv'\n",
        "TEST_DATA_FILE='data/2018/intertass-ES-test.csv'\n",
        "\n",
        "RESULTS_2017='data/2017/results/'\n",
        "RESULTS_2018='data/2018/results/'\n",
        "\n",
        "TRAIN_GENERAL_DATA_FILE = 'data/train_general3l.csv'\n",
        "# TRAIN_GENERAL_COMBINED_FILE = 'train_general_combined.csv'\n",
        "DATA_GENERATE_FOLDER = 'data/data_generada/'\n",
        "\n",
        "##Parameters\n",
        "EMBEDDING_DIMENSION = 300\n",
        "#max_features = 5000\n",
        "max_features = 3000 \n",
        "MAX_TWEET_LENGTH = 15 #initialization"
      ],
      "execution_count": 0,
      "outputs": []
    },
    {
      "metadata": {
        "id": "NzYQTIcqDg5q",
        "colab_type": "code",
        "colab": {}
      },
      "cell_type": "code",
      "source": [
        "cols = ['tweet','sentiment']\n",
        "\n",
        "df_gral = pd.read_csv(os.path.join(DRIVE_FOLDER,TRAIN_GENERAL_DATA_FILE),header=None, names=cols)\n",
        "df_gral.head()\n",
        "# train_limit\n",
        "\n",
        "total = df_gral.shape[0]\n",
        "\n",
        "\n",
        "# df_t = pd.DataFrame(np.random.randn(100, 2))\n",
        "\n",
        "msk = np.random.rand(df_gral.shape[0]) < 0.8\n",
        "\n",
        "df_tr = df_gral[msk]\n",
        "\n",
        "df_dev = df_gral[~msk]\n",
        "\n",
        "msk2 = np.random.rand(df_tr.shape[0]) < 0.8\n",
        "\n",
        "df_train = df_tr[msk2]\n",
        "df_test = df_tr[~msk2]\n",
        "df_train.reset_index(drop=True, inplace=True)\n",
        "df_dev.reset_index(drop=True, inplace=True)\n",
        "df_test.reset_index(drop=True, inplace=True)\n",
        "\n",
        "assert df_train.shape[0]+df_dev.shape[0]+df_test.shape[0] == total, \"bad split!\""
      ],
      "execution_count": 0,
      "outputs": []
    },
    {
      "metadata": {
        "id": "90cXkC3OI1J6",
        "colab_type": "code",
        "colab": {
          "base_uri": "https://localhost:8080/",
          "height": 168
        },
        "outputId": "2a7323e1-a003-46b3-b37a-f5aa505e1392"
      },
      "cell_type": "code",
      "source": [
        "N_TRAIN_EXAMPLES = df_train.shape[0]\n",
        "N_TEST_EXAMPLES = df_test.shape[0]\n",
        "print('train df: ',df_train.shape)\n",
        "print('dev df: ',df_dev.shape)\n",
        "print('test df: ',df_test.shape)\n",
        "total,df_test.head()"
      ],
      "execution_count": 5,
      "outputs": [
        {
          "output_type": "stream",
          "text": [
            "train df:  (4597, 2)\n",
            "dev df:  (1487, 2)\n",
            "test df:  (1134, 2)\n"
          ],
          "name": "stdout"
        },
        {
          "output_type": "execute_result",
          "data": {
            "text/plain": [
              "(7218,                                                tweet sentiment\n",
              " 0                  #programascambiados caca d ajuste         N\n",
              " 1  Noooooos días! Me he dormidoooooo ya estoy en ...      NONE\n",
              " 2  La Universidad confía en De la Calle para enca...         P\n",
              " 3  Accidente en BUS-VAO A-6 km. 12. Motorista de ...         N\n",
              " 4  Mis #FF xa @merpastor x volver a sonreír, a @G...         P)"
            ]
          },
          "metadata": {
            "tags": []
          },
          "execution_count": 5
        }
      ]
    },
    {
      "metadata": {
        "id": "yzVF8piJjXi-",
        "colab_type": "code",
        "colab": {}
      },
      "cell_type": "code",
      "source": [
        "\n",
        "##test\n",
        "# cols = ['tweet','sentiment']\n",
        "# df_train = pd.read_csv(os.path.join(DRIVE_FOLDER,TRAIN_DATA_FILE),header=None, names=cols)\n",
        "# df_dev = pd.read_csv(os.path.join(DRIVE_FOLDER,DEV_DATA_FILE),header=None, names=cols)\n",
        "# df_test = pd.read_csv(os.path.join(DRIVE_FOLDER,TEST_DATA_FILE),header=None, names=cols)\n",
        "\n",
        "# N_TRAIN_EXAMPLES = df_train.shape[0]\n",
        "# N_TEST_EXAMPLES = df_test.shape[0]\n",
        "# print('train df: ',df_train.shape)\n",
        "# print('dev df: ',df_dev.shape)\n",
        "# print('test df: ',df_test.shape)\n",
        "# df_test.head()"
      ],
      "execution_count": 0,
      "outputs": []
    },
    {
      "metadata": {
        "id": "pBfvK9ZJNv1V",
        "colab_type": "code",
        "colab": {}
      },
      "cell_type": "code",
      "source": [
        ""
      ],
      "execution_count": 0,
      "outputs": []
    },
    {
      "metadata": {
        "id": "r-7VCphsneXL",
        "colab_type": "text"
      },
      "cell_type": "markdown",
      "source": [
        "### Pre-procesamiento"
      ]
    },
    {
      "metadata": {
        "id": "81rnNloon3jm",
        "colab_type": "code",
        "colab": {}
      },
      "cell_type": "code",
      "source": [
        "list_sentences_train = df_train[\"tweet\"].values\n",
        "list_sentences_dev = df_dev[\"tweet\"].values\n",
        "list_sentences_test = df_test[\"tweet\"].values\n",
        "labels_train = df_train[\"sentiment\"].values\n",
        "labels_dev = df_dev[\"sentiment\"].values"
      ],
      "execution_count": 0,
      "outputs": []
    },
    {
      "metadata": {
        "id": "-PHMBEOGN8Ur",
        "colab_type": "code",
        "outputId": "7b237045-5ce1-422d-b9da-38187e5ac255",
        "colab": {
          "base_uri": "https://localhost:8080/",
          "height": 34
        }
      },
      "cell_type": "code",
      "source": [
        "len(list_sentences_train)"
      ],
      "execution_count": 8,
      "outputs": [
        {
          "output_type": "execute_result",
          "data": {
            "text/plain": [
              "4597"
            ]
          },
          "metadata": {
            "tags": []
          },
          "execution_count": 8
        }
      ]
    },
    {
      "metadata": {
        "id": "yo_YHLlqlcjb",
        "colab_type": "code",
        "colab": {}
      },
      "cell_type": "code",
      "source": [
        "## Functions for cleaning data\n",
        "def remove_mentions(input_text):\n",
        "    return re.sub(r'@\\w+', '', input_text)\n",
        "    \n",
        "def remove_urls(input_text):\n",
        "    return re.sub(r'http.?://[^\\s]+[\\s]?', '', input_text)\n",
        "\n",
        "def remove_digits(input_text):\n",
        "    return re.sub('\\d+', '', input_text)\n",
        "    \n",
        "def stemming(input_text):\n",
        "    porter = PorterStemmer()\n",
        "    words = input_text.split() \n",
        "    \n",
        "    stemmed_words = [porter.stem(word) for word in words]\n",
        "    return \" \".join(stemmed_words)\n",
        "    \n",
        "def remove_stopwords(input_text):\n",
        "    stopwords_list = stopwords.words('spanish')\n",
        "    words = input_text.split() \n",
        "    whitelist = [\"no\"]\n",
        "    clean_words = [word for word in words if (word not in stopwords_list or word in whitelist) and len(word) > 1] \n",
        "    return \" \".join(clean_words) \n",
        "\n",
        "def replace_accents(input_text):\n",
        "    \n",
        "    input_text = re.sub(u\"[àáâãäå]\", 'a', input_text)\n",
        "    input_text = re.sub(u\"[èéêë]\", 'e', input_text)\n",
        "    input_text = re.sub(u\"[ìíîï]\", 'i', input_text)\n",
        "    input_text = re.sub(u\"[òóôõö]\", 'o', input_text)\n",
        "    input_text = re.sub(u\"[ùúûü]\", 'u', input_text)\n",
        "    input_text = re.sub(u\"[ýÿ]\", 'y', input_text)\n",
        "    return input_text\n",
        "\n",
        "def to_lower(input_text):\n",
        "    return input_text.lower()\n",
        "\n",
        "def remove_punctuation(input_text):\n",
        "    # Make translation table\n",
        "    punct = string.punctuation\n",
        "    punct = punct+'¡'+'?'+'¿'+'…'\n",
        "    trantab = str.maketrans(punct, len(punct)*' ')  # Every punctuation symbol will be replaced by a space\n",
        "    input_text = re.sub(\"[\\.][\\.][\\.]\", \" \", input_text)\n",
        "    return input_text.translate(trantab)\n",
        "\n",
        "\n",
        "def processJaja(word):\n",
        "    dirtyJaja = re.compile(r'[ja]{5,}')\n",
        "    dirtyJeje = re.compile(r'[je]{5,}')\n",
        "    dirtyHihi = re.compile(r'[hi]{5,}')\n",
        "    dirtyJaj = re.compile(r'[a-zA-z]+ja{2,}')\n",
        "    while dirtyJaja.search(word)!=None:\n",
        "        word = word.replace(dirtyJaja.search(word).group(),'jaja')\n",
        "    while dirtyJeje.search(word)!=None:\n",
        "        word = word.replace(dirtyJeje.search(word).group(),'jaja')\n",
        "    while dirtyHihi.search(word)!=None:\n",
        "        word = word.replace(dirtyHihi.search(word).group(),'jaja')\n",
        "    while dirtyJaj.search(word)!=None:\n",
        "        word = word.replace(dirtyJaj.search(word).group(),'jaja')\n",
        "    \n",
        "    return word    \n",
        "\n",
        "def remove_emoji(string):\n",
        "    emoji_pattern = re.compile(\"[\"\n",
        "                           u\"\\U0001F600-\\U0001F64F\"  # emoticons\n",
        "                           u\"\\U0001F300-\\U0001F5FF\"  # symbols & pictographs\n",
        "                           u\"\\U0001F680-\\U0001F6FF\"  # transport & map symbols\n",
        "                           u\"\\U0001F1E0-\\U0001F1FF\"  # flags (iOS)\n",
        "                           u\"\\U00002702-\\U000027B0\"\n",
        "                           u\"\\U000024C2-\\U0001F251\"\n",
        "                           \"]+\", flags=re.UNICODE)\n",
        "    return emoji_pattern.sub(r'', string)\n",
        "## Cleaning data\n",
        "def clean_data(list_sentences):\n",
        "    clean_tweet_texts = []\n",
        "    i=0\n",
        "    for sentence  in list_sentences:\n",
        "        #print('**- ',i,' ',sentence)\n",
        "        if sentence != 'nan':\n",
        "            clean_text = remove_mentions(sentence)\n",
        "            clean_text = remove_urls(clean_text)\n",
        "            clean_text = remove_punctuation(clean_text)\n",
        "            clean_text = replace_accents(clean_text)\n",
        "            clean_text = remove_digits(clean_text)\n",
        "            clean_text = to_lower(clean_text)\n",
        "            clean_text = remove_stopwords(clean_text)\n",
        "            clean_text = processJaja(clean_text)\n",
        "            clean_text = remove_emoji(clean_text)\n",
        "            #clean_text = stemming(clean_text)\n",
        "            clean_tweet_texts.append(clean_text)\n",
        "        i+=1\n",
        "    return clean_tweet_texts"
      ],
      "execution_count": 0,
      "outputs": []
    },
    {
      "metadata": {
        "id": "ZyN2i1ZrxgZa",
        "colab_type": "code",
        "outputId": "5c40d59b-06cc-43e1-eb9a-054ed9eef3c1",
        "colab": {
          "base_uri": "https://localhost:8080/",
          "height": 168
        }
      },
      "cell_type": "code",
      "source": [
        "!python\n"
      ],
      "execution_count": 33,
      "outputs": [
        {
          "output_type": "stream",
          "text": [
            "Python 3.6.7 (default, Oct 22 2018, 11:32:17) \n",
            "[GCC 8.2.0] on linux\n",
            "Type \"help\", \"copyright\", \"credits\" or \"license\" for more information.\n",
            ">>> import nltk\n",
            ">>> nltk.download('stopwords')\n",
            "[nltk_data] Downloading package stopwords to /root/nltk_data...\n",
            "[nltk_data]   Unzipping corpora/stopwords.zip.\n",
            "True\n",
            ">>> exit()\n"
          ],
          "name": "stdout"
        }
      ]
    },
    {
      "metadata": {
        "id": "ocThLRAWntID",
        "colab_type": "code",
        "colab": {}
      },
      "cell_type": "code",
      "source": [
        "list_sentences_train_clean = clean_data(list_sentences_train)\n",
        "list_sentences_dev_clean = clean_data(list_sentences_dev)\n",
        "list_sentences_test_clean = clean_data(list_sentences_test)"
      ],
      "execution_count": 0,
      "outputs": []
    },
    {
      "metadata": {
        "id": "RhgMddVMotqF",
        "colab_type": "code",
        "colab": {}
      },
      "cell_type": "code",
      "source": [
        "list_sentences_train_clean"
      ],
      "execution_count": 0,
      "outputs": []
    },
    {
      "metadata": {
        "id": "Xgua0OYxMU6t",
        "colab_type": "code",
        "colab": {
          "base_uri": "https://localhost:8080/",
          "height": 34
        },
        "outputId": "6d399761-c8b2-4fd2-810e-4204c028a61e"
      },
      "cell_type": "code",
      "source": [
        " df_train.tweet[0]\n",
        " len(df_train)"
      ],
      "execution_count": 12,
      "outputs": [
        {
          "output_type": "execute_result",
          "data": {
            "text/plain": [
              "4597"
            ]
          },
          "metadata": {
            "tags": []
          },
          "execution_count": 12
        }
      ]
    },
    {
      "metadata": {
        "id": "9EWkEW7po1l_",
        "colab_type": "text"
      },
      "cell_type": "markdown",
      "source": [
        "**Estimar longitud maxima de tweet**"
      ]
    },
    {
      "metadata": {
        "id": "l9Ht_Qfdo1Pb",
        "colab_type": "code",
        "outputId": "c1fc536f-689c-450c-c02b-520d936198d2",
        "colab": {
          "base_uri": "https://localhost:8080/",
          "height": 347
        }
      },
      "cell_type": "code",
      "source": [
        "lengths = []\n",
        "for i in range(len(df_train)):\n",
        "    sentence = df_train.tweet[i]\n",
        "    l = len(sentence.split())\n",
        "    lengths.append(l)\n",
        "\n",
        "import matplotlib.pyplot as plt\n",
        "plt.hist(lengths, bins=np.arange(max(lengths)), histtype='step', linewidth=1);\n",
        "plt.show()"
      ],
      "execution_count": 13,
      "outputs": [
        {
          "output_type": "display_data",
          "data": {
            "image/png": "[encoded data removed]",
            "text/plain": [
              "<Figure size 576x396 with 1 Axes>"
            ]
          },
          "metadata": {
            "tags": []
          }
        }
      ]
    },
    {
      "metadata": {
        "id": "GX9PmRWxokvm",
        "colab_type": "code",
        "colab": {}
      },
      "cell_type": "code",
      "source": [
        "MAX_TWEET_LENGTH = 25"
      ],
      "execution_count": 0,
      "outputs": []
    },
    {
      "metadata": {
        "id": "_Nvz7mUbpFSo",
        "colab_type": "code",
        "colab": {}
      },
      "cell_type": "code",
      "source": [
        "#TOKENIZATION, INDEXING AND PADDING\n",
        "tokenizer = Tokenizer(num_words=max_features)\n",
        "tokenizer.fit_on_texts(list(list_sentences_train_clean))\n",
        "list_tokenized_train = tokenizer.texts_to_sequences(list_sentences_train_clean)\n",
        "list_tokenized_dev = tokenizer.texts_to_sequences(list_sentences_dev_clean)\n",
        "list_tokenized_test = tokenizer.texts_to_sequences(list_sentences_test_clean)\n",
        "\n",
        "\n",
        "X_train = pad_sequences(list_tokenized_train, maxlen=MAX_TWEET_LENGTH)\n",
        "X_dev = pad_sequences(list_tokenized_dev, maxlen=MAX_TWEET_LENGTH)\n",
        "X_test = pad_sequences(list_tokenized_test, maxlen=MAX_TWEET_LENGTH)"
      ],
      "execution_count": 0,
      "outputs": []
    },
    {
      "metadata": {
        "id": "ju5X_g4UpFWc",
        "colab_type": "code",
        "outputId": "b65d5a1d-4bf4-4d52-ddf9-d68ee5caa12e",
        "colab": {
          "base_uri": "https://localhost:8080/",
          "height": 134
        }
      },
      "cell_type": "code",
      "source": [
        "X_test"
      ],
      "execution_count": 16,
      "outputs": [
        {
          "output_type": "execute_result",
          "data": {
            "text/plain": [
              "array([[   0,    0,    0, ...,    0,    0,  385],\n",
              "       [   0,    0,    0, ...,  125,  533,  767],\n",
              "       [   0,    0,    0, ...,  174, 1582,    3],\n",
              "       ...,\n",
              "       [   0,    0,    0, ...,   28, 2362,  676],\n",
              "       [   0,    0,    0, ...,    0, 1451,    8],\n",
              "       [   0,    0,    0, ...,    0, 1355,  163]], dtype=int32)"
            ]
          },
          "metadata": {
            "tags": []
          },
          "execution_count": 16
        }
      ]
    },
    {
      "metadata": {
        "id": "SHqugpnTpRmZ",
        "colab_type": "text"
      },
      "cell_type": "markdown",
      "source": [
        "**Categorizar etiquetas**"
      ]
    },
    {
      "metadata": {
        "id": "DtIp8a9SpFfA",
        "colab_type": "code",
        "outputId": "e456a9e9-841a-4cdd-eede-97fe2d905e40",
        "colab": {
          "base_uri": "https://localhost:8080/",
          "height": 101
        }
      },
      "cell_type": "code",
      "source": [
        "df_train[\"sentiment\"].value_counts()"
      ],
      "execution_count": 50,
      "outputs": [
        {
          "output_type": "execute_result",
          "data": {
            "text/plain": [
              "1    1851\n",
              "0    1358\n",
              "3     951\n",
              "2     437\n",
              "Name: sentiment, dtype: int64"
            ]
          },
          "metadata": {
            "tags": []
          },
          "execution_count": 50
        }
      ]
    },
    {
      "metadata": {
        "id": "nrYp5yW6jLcK",
        "colab_type": "code",
        "colab": {
          "base_uri": "https://localhost:8080/",
          "height": 101
        },
        "outputId": "6a307ee2-1e44-46c7-eb8f-43b019de5e9e"
      },
      "cell_type": "code",
      "source": [
        "df_dev[\"sentiment\"].value_counts()"
      ],
      "execution_count": 51,
      "outputs": [
        {
          "output_type": "execute_result",
          "data": {
            "text/plain": [
              "1    591\n",
              "0    469\n",
              "3    296\n",
              "2    131\n",
              "Name: sentiment, dtype: int64"
            ]
          },
          "metadata": {
            "tags": []
          },
          "execution_count": 51
        }
      ]
    },
    {
      "metadata": {
        "id": "9qGkfOXgjMF4",
        "colab_type": "code",
        "colab": {
          "base_uri": "https://localhost:8080/",
          "height": 101
        },
        "outputId": "4898487e-ab53-4790-ca67-3be68d5093b7"
      },
      "cell_type": "code",
      "source": [
        "df_test[\"sentiment\"].value_counts()"
      ],
      "execution_count": 52,
      "outputs": [
        {
          "output_type": "execute_result",
          "data": {
            "text/plain": [
              "1    442\n",
              "0    355\n",
              "3    235\n",
              "2    102\n",
              "Name: sentiment, dtype: int64"
            ]
          },
          "metadata": {
            "tags": []
          },
          "execution_count": 52
        }
      ]
    },
    {
      "metadata": {
        "id": "u1aNNaREpiw8",
        "colab_type": "code",
        "colab": {
          "base_uri": "https://localhost:8080/",
          "height": 118
        },
        "outputId": "d106c8f6-d47b-4b5b-8608-4a83953b4e6c"
      },
      "cell_type": "code",
      "source": [
        "## One hot categorical labels\n",
        "cleanup_nums = {\"sentiment\": {'N': 0, 'P': 1,'NEU':2,'NONE':3}}\n",
        "df_train.replace(cleanup_nums, inplace=True)\n",
        "df_dev.replace(cleanup_nums, inplace=True)\n",
        "df_test.replace(cleanup_nums, inplace=True)\n",
        "\n",
        "y_train = keras.utils.to_categorical(df_train.sentiment)\n",
        "y_dev = keras.utils.to_categorical(df_dev.sentiment)\n",
        "y_test = keras.utils.to_categorical(df_test.sentiment)\n",
        "\n",
        "y_train = np.array(y_train)\n",
        "y_dev = np.array(y_dev)\n",
        "y_test = np.array(y_test)"
      ],
      "execution_count": 18,
      "outputs": [
        {
          "output_type": "stream",
          "text": [
            "/usr/local/lib/python3.6/dist-packages/pandas/core/generic.py:4550: SettingWithCopyWarning: \n",
            "A value is trying to be set on a copy of a slice from a DataFrame.\n",
            "Try using .loc[row_indexer,col_indexer] = value instead\n",
            "\n",
            "See the caveats in the documentation: http://pandas.pydata.org/pandas-docs/stable/indexing.html#indexing-view-versus-copy\n",
            "  regex=regex)\n"
          ],
          "name": "stderr"
        }
      ]
    },
    {
      "metadata": {
        "id": "cTrPs5-vQF3w",
        "colab_type": "code",
        "outputId": "44427439-db68-4e51-9205-fdb018532c1e",
        "colab": {
          "base_uri": "https://localhost:8080/",
          "height": 34
        }
      },
      "cell_type": "code",
      "source": [
        "y_train.shape, y_dev.shape, y_test.shape"
      ],
      "execution_count": 19,
      "outputs": [
        {
          "output_type": "execute_result",
          "data": {
            "text/plain": [
              "((4597, 4), (1487, 4), (1134, 4))"
            ]
          },
          "metadata": {
            "tags": []
          },
          "execution_count": 19
        }
      ]
    },
    {
      "metadata": {
        "id": "mNT54k0WQN2P",
        "colab_type": "code",
        "outputId": "8eb558f8-b4fd-4205-aca0-bab8f98e5079",
        "colab": {
          "base_uri": "https://localhost:8080/",
          "height": 134
        }
      },
      "cell_type": "code",
      "source": [
        "y_test"
      ],
      "execution_count": 21,
      "outputs": [
        {
          "output_type": "execute_result",
          "data": {
            "text/plain": [
              "array([[1., 0., 0., 0.],\n",
              "       [0., 0., 0., 1.],\n",
              "       [0., 1., 0., 0.],\n",
              "       ...,\n",
              "       [1., 0., 0., 0.],\n",
              "       [1., 0., 0., 0.],\n",
              "       [0., 0., 0., 1.]], dtype=float32)"
            ]
          },
          "metadata": {
            "tags": []
          },
          "execution_count": 21
        }
      ]
    },
    {
      "metadata": {
        "id": "WSAHTrCSpiAJ",
        "colab_type": "code",
        "outputId": "3c475621-d6f4-4fa0-b3d7-ebef817561ef",
        "colab": {
          "base_uri": "https://localhost:8080/",
          "height": 319
        }
      },
      "cell_type": "code",
      "source": [
        "##test\n",
        "# sentiment\": {'N': 0, 'P': 1,'NEU':2,'NONE':3}\n",
        "\n",
        "print('train \\n',df_train[\"sentiment\"].value_counts())\n",
        "print('dev \\n',df_dev[\"sentiment\"].value_counts())\n",
        "print('test \\n',df_test[\"sentiment\"].value_counts())"
      ],
      "execution_count": 55,
      "outputs": [
        {
          "output_type": "stream",
          "text": [
            "train \n",
            " 1    1851\n",
            "0    1358\n",
            "3     951\n",
            "2     437\n",
            "Name: sentiment, dtype: int64\n",
            "dev \n",
            " 1    591\n",
            "0    469\n",
            "3    296\n",
            "2    131\n",
            "Name: sentiment, dtype: int64\n",
            "test \n",
            " 1    442\n",
            "0    355\n",
            "3    235\n",
            "2    102\n",
            "Name: sentiment, dtype: int64\n"
          ],
          "name": "stdout"
        }
      ]
    },
    {
      "metadata": {
        "id": "apjccgyWpgud",
        "colab_type": "code",
        "outputId": "a208721f-2190-4d08-932f-e015daa95f7a",
        "colab": {
          "base_uri": "https://localhost:8080/",
          "height": 134
        }
      },
      "cell_type": "code",
      "source": [
        "## test\n",
        "y_train"
      ],
      "execution_count": 23,
      "outputs": [
        {
          "output_type": "execute_result",
          "data": {
            "text/plain": [
              "array([[0., 0., 0., 1.],\n",
              "       [0., 0., 1., 0.],\n",
              "       [0., 1., 0., 0.],\n",
              "       ...,\n",
              "       [1., 0., 0., 0.],\n",
              "       [0., 1., 0., 0.],\n",
              "       [1., 0., 0., 0.]], dtype=float32)"
            ]
          },
          "metadata": {
            "tags": []
          },
          "execution_count": 23
        }
      ]
    },
    {
      "metadata": {
        "id": "e7dYUgXspfMD",
        "colab_type": "text"
      },
      "cell_type": "markdown",
      "source": [
        "### Cargar Word Embeddings"
      ]
    },
    {
      "metadata": {
        "id": "sQ5ci5KeqMaw",
        "colab_type": "code",
        "colab": {}
      },
      "cell_type": "code",
      "source": [
        "def load_embeddings(we_type):\n",
        "    wordvectors_vec_file = ''\n",
        "    if we_type=='fasttext':\n",
        "        print('Loading Fasttext embeddings...')\n",
        "        wordvectors_vec_file = os.path.join(DRIVE_FOLDER,EMBEDDING_FILE_FASTTEX_VEC)\n",
        "    if we_type == 'glove': \n",
        "        print('Loading Glove embeddings...')\n",
        "        wordvectors_vec_file = EMBEDDING_FILE_GLOVE_VEC\n",
        "    wordvectors = KeyedVectors.load_word2vec_format(wordvectors_vec_file)\n",
        "    return wordvectors\n",
        "\n",
        "def create_emb_dict(words, emb_dimension):\n",
        "    emb_dict = {}\n",
        "    size = len(words)\n",
        "    for i in range(size):\n",
        "        word = words[i]\n",
        "        vector = np.array(wordvectors[words[i]], dtype=np.float32)\n",
        "        if vector.shape[0]== emb_dimension:\n",
        "            emb_dict[word] = vector\n",
        "    return emb_dict\n",
        "# array: ['de','la','a'...] of WordEmbeddings\n",
        "def create_words_vocab(vocab):\n",
        "    words = []\n",
        "    for word in vocab:\n",
        "        words.append(word)\n",
        "    return words"
      ],
      "execution_count": 0,
      "outputs": []
    },
    {
      "metadata": {
        "id": "BOs83vRtqCg8",
        "colab_type": "code",
        "colab": {}
      },
      "cell_type": "code",
      "source": [
        "#********************************\n",
        "#LOAD PRETRAINED VECTORS\n",
        "wordvectors = load_embeddings('fasttext')\n",
        "#wordvectors = load_embeddings('glove')\n",
        "\n"
      ],
      "execution_count": 0,
      "outputs": []
    },
    {
      "metadata": {
        "id": "vYBtz3EH4VGN",
        "colab_type": "code",
        "colab": {}
      },
      "cell_type": "code",
      "source": [
        "\n",
        "#********************************\n",
        "#Create word embeddings dictionary\n",
        "emb_words_vocab = create_words_vocab(wordvectors.vocab)\n",
        "emb_dict = create_emb_dict(emb_words_vocab,EMBEDDING_DIMENSION)\n",
        "\n",
        "#********************************\n",
        "##save embeddings dictionary\n",
        "#pickle_out = open(os.path.join(os.path.join(DRIVE_FOLDER,DATA_GENERATE_FOLDER),\"emb_dict_fasttext222.pickle\"),\"wb\")\n",
        "#pickle.dump(emb_dict, pickle_out)\n",
        "#pickle_out.close()"
      ],
      "execution_count": 0,
      "outputs": []
    },
    {
      "metadata": {
        "id": "Nzoxa4a_IvAu",
        "colab_type": "code",
        "colab": {}
      },
      "cell_type": "code",
      "source": [
        "pickle_out = open(os.path.join(os.path.join(DRIVE_FOLDER,DATA_GENERATE_FOLDER),\"emb_dict_fasttext.pickle\"),\"wb\")\n",
        "pickle.dump(emb_dict, pickle_out)\n",
        "pickle_out.close()"
      ],
      "execution_count": 0,
      "outputs": []
    },
    {
      "metadata": {
        "id": "oAyLDBGUqK0j",
        "colab_type": "code",
        "colab": {}
      },
      "cell_type": "code",
      "source": [
        "#load embedding dictionary\n",
        "pickle_in = open(os.path.join(DRIVE_FOLDER,DATA_GENERATE_FOLDER,\"emb_dict_fasttext.pickle\"),\"rb\")\n",
        "emb_dict = pickle.load(pickle_in)"
      ],
      "execution_count": 0,
      "outputs": []
    },
    {
      "metadata": {
        "id": "nqVHsSyQqc12",
        "colab_type": "code",
        "colab": {}
      },
      "cell_type": "code",
      "source": [
        "emb_dict"
      ],
      "execution_count": 0,
      "outputs": []
    },
    {
      "metadata": {
        "id": "OKvXnR4yrKM6",
        "colab_type": "code",
        "colab": {}
      },
      "cell_type": "code",
      "source": [
        "#STAKING WORD VECTORS\n",
        "all_embs = np.stack(emb_dict.values())"
      ],
      "execution_count": 0,
      "outputs": []
    },
    {
      "metadata": {
        "id": "C7Hhn7LJrOK6",
        "colab_type": "code",
        "outputId": "e6ec8ded-571c-4e8d-ea50-4babf30a9481",
        "colab": {
          "base_uri": "https://localhost:8080/",
          "height": 34
        }
      },
      "cell_type": "code",
      "source": [
        "##test\n",
        "all_embs.shape"
      ],
      "execution_count": 28,
      "outputs": [
        {
          "output_type": "execute_result",
          "data": {
            "text/plain": [
              "(855380, 300)"
            ]
          },
          "metadata": {
            "tags": []
          },
          "execution_count": 28
        }
      ]
    },
    {
      "metadata": {
        "id": "Ng_p8zfCrcKa",
        "colab_type": "code",
        "colab": {}
      },
      "cell_type": "code",
      "source": [
        "#CREATING VOCABULARY OF DATASET\n",
        "word_index = tokenizer.word_index ##vocabulario de dataset\n",
        "#nb_words = min(max_features, len(word_index))##numero de palabras en el vocabulario\n",
        "nb_words = len(word_index)+1"
      ],
      "execution_count": 0,
      "outputs": []
    },
    {
      "metadata": {
        "id": "qcLmYvwIrfIm",
        "colab_type": "code",
        "outputId": "4757d567-7d87-46d2-d71d-548088220162",
        "colab": {
          "base_uri": "https://localhost:8080/",
          "height": 34
        }
      },
      "cell_type": "code",
      "source": [
        "nb_words"
      ],
      "execution_count": 30,
      "outputs": [
        {
          "output_type": "execute_result",
          "data": {
            "text/plain": [
              "12002"
            ]
          },
          "metadata": {
            "tags": []
          },
          "execution_count": 30
        }
      ]
    },
    {
      "metadata": {
        "id": "_KPXA8o5rf_E",
        "colab_type": "code",
        "colab": {}
      },
      "cell_type": "code",
      "source": [
        ""
      ],
      "execution_count": 0,
      "outputs": []
    },
    {
      "metadata": {
        "id": "uPz3gHKmpfPX",
        "colab_type": "text"
      },
      "cell_type": "markdown",
      "source": [
        "### Embedding Matrix"
      ]
    },
    {
      "metadata": {
        "id": "VY-T46dbrj8q",
        "colab_type": "code",
        "colab": {}
      },
      "cell_type": "code",
      "source": [
        "#CREATING EMBEDDING MATRIX\n",
        "#RANDOM INITIALIZATION FOR NO WORDS IN VOCABULARY WORD EMBEDDINGS\n",
        "\n",
        "emb_mean,emb_std = all_embs.mean(), all_embs.std()#ranges\n",
        "embedding_matrix = np.random.normal(emb_mean, emb_std, (nb_words, EMBEDDING_DIMENSION)) ##inicializar con numeros aleatorios\n",
        "for word, i in word_index.items():\n",
        "    if i >= nb_words: \n",
        "        continue\n",
        "    embedding_vector = emb_dict.get(word)\n",
        "    if embedding_vector is not None: \n",
        "        embedding_matrix[i] = embedding_vector"
      ],
      "execution_count": 0,
      "outputs": []
    },
    {
      "metadata": {
        "id": "5MmZw3FLrpek",
        "colab_type": "code",
        "outputId": "fdf669f7-8831-438d-a2d0-65af0f6fe804",
        "colab": {
          "base_uri": "https://localhost:8080/",
          "height": 34
        }
      },
      "cell_type": "code",
      "source": [
        "##test\n",
        "max_features, len(word_index),embedding_matrix.shape, nb_words"
      ],
      "execution_count": 32,
      "outputs": [
        {
          "output_type": "execute_result",
          "data": {
            "text/plain": [
              "(3000, 12001, (12002, 300), 12002)"
            ]
          },
          "metadata": {
            "tags": []
          },
          "execution_count": 32
        }
      ]
    },
    {
      "metadata": {
        "id": "cMX-vMv1ruZx",
        "colab_type": "code",
        "outputId": "9b2408f2-911f-439d-ea19-1cb887c85d57",
        "colab": {
          "base_uri": "https://localhost:8080/",
          "height": 235
        }
      },
      "cell_type": "code",
      "source": [
        "##test\n",
        "embedding_matrix"
      ],
      "execution_count": 33,
      "outputs": [
        {
          "output_type": "execute_result",
          "data": {
            "text/plain": [
              "array([[ 0.1101718 ,  0.12845657,  0.00355512, ...,  0.18581652,\n",
              "        -0.00726928, -0.13807592],\n",
              "       [-0.045958  , -0.084632  , -0.085724  , ...,  0.0013008 ,\n",
              "        -0.08545   , -0.12830999],\n",
              "       [ 0.47615999,  0.35605001, -0.23711   , ...,  0.041137  ,\n",
              "        -0.035328  , -0.40505999],\n",
              "       ...,\n",
              "       [ 0.24260999, -0.15072   ,  0.75225002, ...,  0.16693   ,\n",
              "         0.11513   ,  0.086342  ],\n",
              "       [ 0.42401001, -0.50834   ,  0.25207001, ...,  0.038367  ,\n",
              "         0.22668999, -0.40498   ],\n",
              "       [-0.23896   , -0.1529    ,  0.1495    , ..., -0.020794  ,\n",
              "        -0.11433   , -0.25757   ]])"
            ]
          },
          "metadata": {
            "tags": []
          },
          "execution_count": 33
        }
      ]
    },
    {
      "metadata": {
        "id": "mbFlbUZWr7fv",
        "colab_type": "text"
      },
      "cell_type": "markdown",
      "source": [
        "**Words not found**"
      ]
    },
    {
      "metadata": {
        "id": "Gt_kS028ruU0",
        "colab_type": "code",
        "colab": {}
      },
      "cell_type": "code",
      "source": [
        "words_not_found = []\n",
        "for word, i in word_index.items():\n",
        "    if i >= nb_words: \n",
        "        continue\n",
        "    embedding_vector = emb_dict.get(word)\n",
        "    if embedding_vector is None: \n",
        "        words_not_found.append(word)"
      ],
      "execution_count": 0,
      "outputs": []
    },
    {
      "metadata": {
        "id": "48nZbk47ruRA",
        "colab_type": "code",
        "colab": {}
      },
      "cell_type": "code",
      "source": [
        "#FUNCTION FOR PLOT TRAIN-VALIDATION LOSS\n",
        "from matplotlib import pyplot\n",
        "def plot_train_test_loss_acc(history):\n",
        "    pyplot.plot(history.history['loss'])\n",
        "    pyplot.plot(history.history['val_loss'])\n",
        "    pyplot.title('model train vs validation loss')\n",
        "    pyplot.ylabel('loss')\n",
        "    pyplot.xlabel('epoch')\n",
        "    pyplot.legend(['train', 'validation'], loc='upper right')\n",
        "    pyplot.show()"
      ],
      "execution_count": 0,
      "outputs": []
    },
    {
      "metadata": {
        "id": "BlHYGRyEsKvZ",
        "colab_type": "text"
      },
      "cell_type": "markdown",
      "source": [
        "### Train-Test split"
      ]
    },
    {
      "metadata": {
        "id": "HUjX0HlNruKM",
        "colab_type": "code",
        "outputId": "6ff36d55-0430-47ff-c793-a5cb1959e8ed",
        "colab": {
          "base_uri": "https://localhost:8080/",
          "height": 72
        }
      },
      "cell_type": "code",
      "source": [
        "# from sklearn.model_selection import train_test_split\n",
        "# X_train2, X_test2, y_train2, y_test2 = train_test_split(X_t, y_train, test_size=0.2)\n",
        "\n",
        "# X_train2, X_val, y_train2, y_val = train_test_split(X_train2, y_train2, test_size=0.2)\n",
        "\n",
        "# print ('train set: ',X_train2.shape, y_train2.shape)\n",
        "# print ('val set: ',X_val.shape, y_val.shape)\n",
        "# print ('test set: ',X_test2.shape, y_test2.shape)"
      ],
      "execution_count": 0,
      "outputs": [
        {
          "output_type": "stream",
          "text": [
            "train set:  (644, 25) (644, 4)\n",
            "val set:  (162, 25) (162, 4)\n",
            "test set:  (202, 25) (202, 4)\n"
          ],
          "name": "stdout"
        }
      ]
    },
    {
      "metadata": {
        "id": "8nY88jUXNlDH",
        "colab_type": "text"
      },
      "cell_type": "markdown",
      "source": [
        "Test dataset preparation"
      ]
    },
    {
      "metadata": {
        "id": "QfTmOvpSNpHd",
        "colab_type": "code",
        "outputId": "f02fee32-1fa4-4b48-d9ab-ca7c6910ab32",
        "colab": {
          "base_uri": "https://localhost:8080/",
          "height": 34
        }
      },
      "cell_type": "code",
      "source": [
        "X_train.shape, X_dev.shape\n",
        "# X_train"
      ],
      "execution_count": 36,
      "outputs": [
        {
          "output_type": "execute_result",
          "data": {
            "text/plain": [
              "((4597, 25), (1487, 25))"
            ]
          },
          "metadata": {
            "tags": []
          },
          "execution_count": 36
        }
      ]
    },
    {
      "metadata": {
        "id": "bSNbXbtzsVof",
        "colab_type": "text"
      },
      "cell_type": "markdown",
      "source": [
        "### Model: Multilayer Bidirectional LSTM"
      ]
    },
    {
      "metadata": {
        "id": "JdQECNDIruDa",
        "colab_type": "code",
        "outputId": "36635335-8b84-4539-e260-1c77e1b65541",
        "colab": {
          "base_uri": "https://localhost:8080/",
          "height": 1438
        }
      },
      "cell_type": "code",
      "source": [
        "num_lstm =  [200, 128, 64, 32]\n",
        "#dropout = 0.4\n",
        "#recurrent_dropout = 0.45\n",
        "#spatial_dropout = 0.3\n",
        "\n",
        "dropout = 0.5\n",
        "recurrent_dropout = 0.5\n",
        "spatial_dropout = 0.4\n",
        "\n",
        "#####spatial_dropout = 0.6 #remove maps(word embedding) instead individual elements\n",
        "# evitar overfit en palabras especificas\n",
        "#S1: \"The big brown dog was playing with another black dog\"\n",
        "#if we apply dropout 0.2, the sentence can be translated both as S1' and S1''\n",
        "#S1': \"The big brown - was playing with another black -\"\n",
        "#S1'':\"The big - dog was playing with another black -\"\n",
        "num_lstms = [16, 32, 64, 100, 128, 200, 256, 300, 400]\n",
        "dropouts = [0.2, 0.3, 0.4, 0.45 ,0.5, 0.55, 0.6, 0.65, 0.7, 0.75, 0.8, 0.85, 0.9, 1]\n",
        "recurrent_dropouts = [0.2, 0.3, 0.4, 0.45 ,0.5, 0.55, 0.6, 0.65, 0.7, 0.75, 0.8, 0.85, 0.9, 1]\n",
        "spatial_dropouts = [0.2, 0.3, 0.4, 0.45 ,0.5, 0.55, 0.6, 0.65, 0.7, 0.75, 0.8, 0.85, 0.9, 1]\n",
        "i=1\n",
        "for i in range(i):\n",
        "    print('value parameter: ',i)\n",
        "    model = Sequential()\n",
        "    embedding_layer = Embedding(nb_words,EMBEDDING_DIMENSION,weights=[embedding_matrix],input_length = MAX_TWEET_LENGTH,trainable=False)\n",
        "\n",
        "    model.add(embedding_layer)\n",
        "    model.add(SpatialDropout1D(spatial_dropout))\n",
        "    \n",
        "    model.add(Bidirectional(LSTM(units = num_lstm[0],return_sequences=True,dropout = dropout, recurrent_dropout = recurrent_dropout)))\n",
        "    #model.add(Bidirectional(LSTM(units = num_lstm[1],return_sequences=True,dropout = dropout, recurrent_dropout = recurrent_dropout)))\n",
        "    #model.add(Bidirectional(LSTM(units = num_lstm[2],return_sequences=True,dropout = dropout, recurrent_dropout = recurrent_dropout)))\n",
        "    \n",
        "    model.add(Bidirectional(LSTM(units = num_lstm[0],dropout = dropout, recurrent_dropout = recurrent_dropout)))\n",
        "    model.add(Dense(4, activation=\"sigmoid\"))\n",
        "    model.compile(loss = 'binary_crossentropy', optimizer='adam',metrics = ['accuracy'])\n",
        "    print(model.summary())\n",
        "\n",
        "\n",
        "    n_epochs= 15\n",
        "    batch_size = 8\n",
        "#     history = model.fit(X_train2, y_train2, epochs=n_epochs, batch_size=batch_size,verbose=1, validation_data=(X_val, y_val), shuffle=False)\n",
        "    history = model.fit(X_train, y_train, epochs=n_epochs, batch_size=batch_size,verbose=1, validation_data=(X_dev, y_dev), shuffle=False)\n",
        "    \n",
        "    score,acc = model.evaluate(X_dev, y_dev, verbose = 1)\n",
        "    print(\"score: %.2f\" % (score))\n",
        "    print(\"acc: %.2f\" % (acc))\n",
        "\n",
        "#     scores = model.evaluate(X_test2, y_test2, verbose=0)\n",
        "#     print(\"Accuracy: %.2f%%\" % (scores[1]*100))\n",
        "\n",
        "    plot_train_test_loss_acc(history)\n"
      ],
      "execution_count": 37,
      "outputs": [
        {
          "output_type": "stream",
          "text": [
            "value parameter:  0\n",
            "WARNING:tensorflow:From /usr/local/lib/python3.6/dist-packages/tensorflow/python/framework/op_def_library.py:263: colocate_with (from tensorflow.python.framework.ops) is deprecated and will be removed in a future version.\n",
            "Instructions for updating:\n",
            "Colocations handled automatically by placer.\n",
            "WARNING:tensorflow:From /usr/local/lib/python3.6/dist-packages/keras/backend/tensorflow_backend.py:3445: calling dropout (from tensorflow.python.ops.nn_ops) with keep_prob is deprecated and will be removed in a future version.\n",
            "Instructions for updating:\n",
            "Please use `rate` instead of `keep_prob`. Rate should be set to `rate = 1 - keep_prob`.\n",
            "_________________________________________________________________\n",
            "Layer (type)                 Output Shape              Param #   \n",
            "=================================================================\n",
            "embedding_1 (Embedding)      (None, 25, 300)           3600600   \n",
            "_________________________________________________________________\n",
            "spatial_dropout1d_1 (Spatial (None, 25, 300)           0         \n",
            "_________________________________________________________________\n",
            "bidirectional_1 (Bidirection (None, 25, 400)           801600    \n",
            "_________________________________________________________________\n",
            "bidirectional_2 (Bidirection (None, 400)               961600    \n",
            "_________________________________________________________________\n",
            "dense_1 (Dense)              (None, 4)                 1604      \n",
            "=================================================================\n",
            "Total params: 5,365,404\n",
            "Trainable params: 1,764,804\n",
            "Non-trainable params: 3,600,600\n",
            "_________________________________________________________________\n",
            "None\n",
            "WARNING:tensorflow:From /usr/local/lib/python3.6/dist-packages/tensorflow/python/ops/math_ops.py:3066: to_int32 (from tensorflow.python.ops.math_ops) is deprecated and will be removed in a future version.\n",
            "Instructions for updating:\n",
            "Use tf.cast instead.\n",
            "Train on 4597 samples, validate on 1487 samples\n",
            "Epoch 1/15\n",
            "4597/4597 [==============================] - 171s 37ms/step - loss: 0.4956 - acc: 0.7652 - val_loss: 0.4644 - val_acc: 0.7799\n",
            "Epoch 2/15\n",
            "4597/4597 [==============================] - 164s 36ms/step - loss: 0.4587 - acc: 0.7867 - val_loss: 0.4538 - val_acc: 0.7917\n",
            "Epoch 3/15\n",
            "4597/4597 [==============================] - 163s 35ms/step - loss: 0.4442 - acc: 0.7949 - val_loss: 0.4386 - val_acc: 0.8004\n",
            "Epoch 4/15\n",
            "4597/4597 [==============================] - 163s 35ms/step - loss: 0.4367 - acc: 0.8002 - val_loss: 0.4341 - val_acc: 0.8080\n",
            "Epoch 5/15\n",
            "4597/4597 [==============================] - 162s 35ms/step - loss: 0.4316 - acc: 0.8036 - val_loss: 0.4278 - val_acc: 0.8060\n",
            "Epoch 6/15\n",
            "4597/4597 [==============================] - 162s 35ms/step - loss: 0.4215 - acc: 0.8091 - val_loss: 0.4196 - val_acc: 0.8141\n",
            "Epoch 7/15\n",
            "4597/4597 [==============================] - 163s 35ms/step - loss: 0.4169 - acc: 0.8114 - val_loss: 0.4248 - val_acc: 0.8104\n",
            "Epoch 8/15\n",
            "4597/4597 [==============================] - 162s 35ms/step - loss: 0.4081 - acc: 0.8173 - val_loss: 0.4191 - val_acc: 0.8129\n",
            "Epoch 9/15\n",
            "4597/4597 [==============================] - 162s 35ms/step - loss: 0.4070 - acc: 0.8164 - val_loss: 0.4162 - val_acc: 0.8147\n",
            "Epoch 10/15\n",
            "4597/4597 [==============================] - 162s 35ms/step - loss: 0.4029 - acc: 0.8178 - val_loss: 0.4163 - val_acc: 0.8127\n",
            "Epoch 11/15\n",
            "4597/4597 [==============================] - 162s 35ms/step - loss: 0.3947 - acc: 0.8221 - val_loss: 0.4145 - val_acc: 0.8167\n",
            "Epoch 12/15\n",
            "4597/4597 [==============================] - 162s 35ms/step - loss: 0.3889 - acc: 0.8237 - val_loss: 0.4171 - val_acc: 0.8152\n",
            "Epoch 13/15\n",
            "4597/4597 [==============================] - 162s 35ms/step - loss: 0.3894 - acc: 0.8242 - val_loss: 0.4134 - val_acc: 0.8142\n",
            "Epoch 14/15\n",
            "4597/4597 [==============================] - 162s 35ms/step - loss: 0.3856 - acc: 0.8266 - val_loss: 0.4143 - val_acc: 0.8122\n",
            "Epoch 15/15\n",
            "4597/4597 [==============================] - 162s 35ms/step - loss: 0.3749 - acc: 0.8322 - val_loss: 0.4136 - val_acc: 0.8130\n",
            "1487/1487 [==============================] - 5s 3ms/step\n",
            "score: 0.41\n",
            "acc: 0.81\n"
          ],
          "name": "stdout"
        },
        {
          "output_type": "display_data",
          "data": {
            "image/png": "[encoded data removed]",
            "text/plain": [
              "<Figure size 576x396 with 1 Axes>"
            ]
          },
          "metadata": {
            "tags": []
          }
        }
      ]
    },
    {
      "metadata": {
        "id": "Qp6ulSLqrt7v",
        "colab_type": "code",
        "outputId": "72ef1c09-04e4-4e16-981a-1caeb1cb7c71",
        "colab": {
          "base_uri": "https://localhost:8080/",
          "height": 134
        }
      },
      "cell_type": "code",
      "source": [
        "ynew = model.predict(X_test)\n",
        "ynew"
      ],
      "execution_count": 38,
      "outputs": [
        {
          "output_type": "execute_result",
          "data": {
            "text/plain": [
              "array([[0.6716151 , 0.19568011, 0.05575147, 0.11344364],\n",
              "       [0.14365795, 0.52418655, 0.04214266, 0.27041867],\n",
              "       [0.12853694, 0.5915049 , 0.0487608 , 0.1841329 ],\n",
              "       ...,\n",
              "       [0.7412139 , 0.08088055, 0.12084648, 0.05407262],\n",
              "       [0.40317923, 0.21739271, 0.05727273, 0.3049614 ],\n",
              "       [0.08276725, 0.3227412 , 0.02661958, 0.520058  ]], dtype=float32)"
            ]
          },
          "metadata": {
            "tags": []
          },
          "execution_count": 38
        }
      ]
    },
    {
      "metadata": {
        "id": "phZU8zzTrtxs",
        "colab_type": "code",
        "colab": {}
      },
      "cell_type": "code",
      "source": [
        "y_new_int = []\n",
        "def decode(datum):\n",
        "    return np.argmax(datum)\n",
        "  \n",
        "for i in range(ynew.shape[0]):\n",
        "    datum = ynew[i]\n",
        "    y_new_int.append(decode(ynew[i]))\n",
        "\n",
        "y_new_int\n"
      ],
      "execution_count": 0,
      "outputs": []
    },
    {
      "metadata": {
        "id": "qAo33lgUdh_Q",
        "colab_type": "code",
        "colab": {}
      },
      "cell_type": "code",
      "source": [
        "# sentiment\": {'N': 0, 'P': 1,'NEU':2,'NONE':3}\n",
        "y_test_int=[]\n",
        "for lb in y_test:\n",
        "  y_test_int.append(list(lb).index(1.))\n",
        "\n",
        "y_test_int"
      ],
      "execution_count": 0,
      "outputs": []
    },
    {
      "metadata": {
        "id": "v50Mc4SJdRZ8",
        "colab_type": "code",
        "colab": {
          "base_uri": "https://localhost:8080/",
          "height": 104
        },
        "outputId": "47e2d7aa-872a-4ef0-cce6-6e4c0e79282a"
      },
      "cell_type": "code",
      "source": [
        "from sklearn.metrics import *\n",
        "acc = accuracy_score(y_test_int, y_new_int)\n",
        "f1 = f1_score(y_test_int, y_new_int, average='macro')\n",
        "print('accuracy: ',acc)\n",
        "print('F1: ',f1)"
      ],
      "execution_count": 49,
      "outputs": [
        {
          "output_type": "stream",
          "text": [
            "accuracy:  0.5978835978835979\n",
            "F1:  0.4548793530064076\n"
          ],
          "name": "stdout"
        },
        {
          "output_type": "stream",
          "text": [
            "/usr/local/lib/python3.6/dist-packages/sklearn/metrics/classification.py:1143: UndefinedMetricWarning: F-score is ill-defined and being set to 0.0 in labels with no predicted samples.\n",
            "  'precision', 'predicted', average, warn_for)\n"
          ],
          "name": "stderr"
        }
      ]
    },
    {
      "metadata": {
        "id": "mTspyqtUBzIx",
        "colab_type": "code",
        "colab": {}
      },
      "cell_type": "code",
      "source": [
        "cols = ['id','tweet','sentiment']\n",
        "df_test = pd.read_csv(os.path.join(DRIVE_FOLDER,TEST_DATA_FILE),header=None, names=cols)\n",
        "\n",
        "N_TRAIN_EXAMPLES = df_test.shape[0]\n",
        "print('df_test df: ',df_test.shape)\n",
        "\n"
      ],
      "execution_count": 0,
      "outputs": []
    },
    {
      "metadata": {
        "id": "Zyik16JvOz94",
        "colab_type": "code",
        "colab": {}
      },
      "cell_type": "code",
      "source": [
        "dictionary = dict(zip(list(df_test.id), y_test_int))\n",
        "dictionary"
      ],
      "execution_count": 0,
      "outputs": []
    },
    {
      "metadata": {
        "id": "lHO3KfPMOfhr",
        "colab_type": "code",
        "colab": {}
      },
      "cell_type": "code",
      "source": [
        "import csv\n",
        "# sentiment\": {'N': 0, 'P': 1,'NEU':2,'NONE':3}\n",
        "fieldnames = ('tweet_id', 'polarity')\n",
        "csv_filename = RESULTS_2018+\"results.csv\"\n",
        "with open(os.path.join(DRIVE_FOLDER,csv_filename), 'w') as f:\n",
        "    for key in dictionary.keys():\n",
        "      value=''\n",
        "      if dictionary[key]==0:\n",
        "        value = 'N'\n",
        "      if dictionary[key]==1:\n",
        "        value = 'P'\n",
        "      if dictionary[key]==2:\n",
        "        value = 'NEU'\n",
        "      if dictionary[key]==3:\n",
        "        value = 'NONE'\n",
        "      \n",
        "      f.write(\"%s\\t%s\\n\"%(key,value))"
      ],
      "execution_count": 0,
      "outputs": []
    }
  ]
}